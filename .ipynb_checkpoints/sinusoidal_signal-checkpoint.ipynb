{
 "cells": [
  {
   "cell_type": "markdown",
   "id": "2d5b5564-de27-4b44-97a4-0077ed7132cf",
   "metadata": {},
   "source": [
    "# importing libraries for use in code"
   ]
  },
  {
   "cell_type": "code",
   "execution_count": null,
   "id": "788512bd-e910-48d6-b274-f69ccb83de70",
   "metadata": {},
   "outputs": [],
   "source": [
    "import numpy as np\n",
    "import matplotlib.pyplot as plt\n",
    "from scipy.signal import find_peaks\n"
   ]
  }
 ],
 "metadata": {
  "kernelspec": {
   "display_name": "Python 3 (ipykernel)",
   "language": "python",
   "name": "python3"
  },
  "language_info": {
   "codemirror_mode": {
    "name": "ipython",
    "version": 3
   },
   "file_extension": ".py",
   "mimetype": "text/x-python",
   "name": "python",
   "nbconvert_exporter": "python",
   "pygments_lexer": "ipython3",
   "version": "3.13.0"
  }
 },
 "nbformat": 4,
 "nbformat_minor": 5
}
